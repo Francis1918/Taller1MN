{
 "cells": [
  {
   "metadata": {},
   "cell_type": "markdown",
   "source": "**Taller 1 Integrantes:Francis Bravo, Michael Yanez*",
   "id": "5cd15cdfc9e9c9fe"
  },
  {
   "metadata": {
    "ExecuteTime": {
     "end_time": "2025-04-29T00:52:33.612364Z",
     "start_time": "2025-04-29T00:52:33.608816Z"
    }
   },
   "cell_type": "code",
   "source": "print('Hola Mundo')",
   "id": "cc0f845d5df3eeb4",
   "outputs": [
    {
     "name": "stdout",
     "output_type": "stream",
     "text": [
      "Hola Mundo\n"
     ]
    }
   ],
   "execution_count": 3
  },
  {
   "metadata": {},
   "cell_type": "code",
   "outputs": [],
   "execution_count": null,
   "source": "",
   "id": "e8266073448248ea"
  }
 ],
 "metadata": {
  "kernelspec": {
   "display_name": "Python 3",
   "language": "python",
   "name": "python3"
  },
  "language_info": {
   "codemirror_mode": {
    "name": "ipython",
    "version": 2
   },
   "file_extension": ".py",
   "mimetype": "text/x-python",
   "name": "python",
   "nbconvert_exporter": "python",
   "pygments_lexer": "ipython2",
   "version": "2.7.6"
  }
 },
 "nbformat": 4,
 "nbformat_minor": 5
}
