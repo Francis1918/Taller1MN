{
 "cells": [
  {
   "metadata": {},
   "cell_type": "markdown",
   "source": "**Taller 1 Integrantes:Francis Bravo, Michael Yanez*",
   "id": "5cd15cdfc9e9c9fe"
  },
  {
   "metadata": {
    "ExecuteTime": {
     "end_time": "2025-04-29T00:52:33.612364Z",
     "start_time": "2025-04-29T00:52:33.608816Z"
    }
   },
   "cell_type": "code",
   "source": "#implementacion del primer algoritmo",
   "id": "cc0f845d5df3eeb4",
   "outputs": [
    {
     "name": "stdout",
     "output_type": "stream",
     "text": [
      "Hola Mundo\n"
     ]
    }
   ],
   "execution_count": 3
  },
  {
   "metadata": {},
   "cell_type": "markdown",
   "source": "Caso de prueba #1",
   "id": "7763a900826a4b3"
  },
  {
   "metadata": {
    "ExecuteTime": {
     "end_time": "2025-04-29T02:22:38.171699Z",
     "start_time": "2025-04-29T02:22:38.164986Z"
    }
   },
   "cell_type": "code",
   "source": [
    "# Ejercicio #1\n",
    "def alg_01(N, X):\n",
    "    SUM = 0\n",
    "    for i in range(N):\n",
    "        SUM += X[i]\n",
    "    print(\"La suma es:\", SUM)\n",
    "\n",
    "# Caso de prueba\n",
    "if __name__ == \"__main__\":\n",
    "    X = range(100)\n",
    "    alg_01(len(X), X)\n"
   ],
   "id": "e8266073448248ea",
   "outputs": [
    {
     "name": "stdout",
     "output_type": "stream",
     "text": [
      "La suma es: 4950\n"
     ]
    }
   ],
   "execution_count": 4
  },
  {
   "metadata": {},
   "cell_type": "markdown",
   "source": "Caso de prueba #2",
   "id": "5f2c3d40e1bfa8d8"
  },
  {
   "metadata": {
    "ExecuteTime": {
     "end_time": "2025-04-29T02:25:35.523637Z",
     "start_time": "2025-04-29T02:25:35.519507Z"
    }
   },
   "cell_type": "code",
   "source": [
    "# Ejercicio #1\n",
    "def alg_01(N, X):\n",
    "    SUM = 0\n",
    "    for i in range(N):\n",
    "        SUM += X[i]\n",
    "    print(\"La suma es:\", SUM)\n",
    "\n",
    "# Casos de prueba\n",
    "if __name__ == \"__main__\":\n",
    "    X = [1, 1/2, 1/4]\n",
    "    alg_01(len(X), X)"
   ],
   "id": "b7192388eb9c28d9",
   "outputs": [
    {
     "name": "stdout",
     "output_type": "stream",
     "text": [
      "La suma es: 1.75\n"
     ]
    }
   ],
   "execution_count": 6
  },
  {
   "metadata": {},
   "cell_type": "code",
   "outputs": [],
   "execution_count": null,
   "source": "",
   "id": "9a6ba4c4f021d9f3"
  }
 ],
 "metadata": {
  "kernelspec": {
   "display_name": "Python 3",
   "language": "python",
   "name": "python3"
  },
  "language_info": {
   "codemirror_mode": {
    "name": "ipython",
    "version": 2
   },
   "file_extension": ".py",
   "mimetype": "text/x-python",
   "name": "python",
   "nbconvert_exporter": "python",
   "pygments_lexer": "ipython2",
   "version": "2.7.6"
  }
 },
 "nbformat": 4,
 "nbformat_minor": 5
}
